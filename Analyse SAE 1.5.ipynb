{
 "cells": [
  {
   "cell_type": "markdown",
   "id": "51b9fac3-00e4-42c9-99ee-c931fdcdbe09",
   "metadata": {},
   "source": [
    "# SAE 15 DERBEL - MILHAU"
   ]
  },
  {
   "cell_type": "markdown",
   "id": "9cd2740e-a57e-431d-9627-55dbc5a39100",
   "metadata": {},
   "source": [
    "## La carte\n",
    "Voici une carte sur laquel est répertorier tout les parkings que ce soit pour les vélos en **bleu** ou comme pour les voitures en **rouge**."
   ]
  },
  {
   "cell_type": "code",
   "execution_count": 1,
   "id": "e20358b4-5172-4fee-97bc-2d5dacad9428",
   "metadata": {},
   "outputs": [
    {
     "name": "stderr",
     "output_type": "stream",
     "text": [
      "c:\\Users\\Asus\\AppData\\Local\\Programs\\Python\\Python39\\lib\\site-packages\\IPython\\core\\display.py:431: UserWarning: Consider using IPython.display.IFrame instead\n",
      "  warnings.warn(\"Consider using IPython.display.IFrame instead\")\n"
     ]
    },
    {
     "data": {
      "text/html": [
       "<iframe src=\"./carte.html\" width=\"1450\" height=\"720\"></iframe>"
      ],
      "text/plain": [
       "<IPython.core.display.HTML object>"
      ]
     },
     "metadata": {},
     "output_type": "display_data"
    }
   ],
   "source": [
    "from IPython.display import HTML\n",
    "\n",
    "# Définition de la largeur et de la hauteur souhaitées\n",
    "largeur = \"1450\"\n",
    "hauteur = \"720\"\n",
    "\n",
    "# Création de la balise HTML avec les dimensions spécifiées\n",
    "iframe_html = f'<iframe src=\"./carte.html\" width=\"{largeur}\" height=\"{hauteur}\"></iframe>'\n",
    "\n",
    "# Affichage de la balise HTML dans le notebook\n",
    "display(HTML(iframe_html))"
   ]
  },
  {
   "cell_type": "markdown",
   "id": "63aa7cb6-1de9-4ee4-abeb-1d88dcb78034",
   "metadata": {},
   "source": [
    "## Parkings voitures"
   ]
  },
  {
   "cell_type": "markdown",
   "id": "f697995d-28b5-48dd-ae98-e5c857b89945",
   "metadata": {},
   "source": [
    "On a pu récupérer les données de chaque de voitures sur des différentes périodes. Vous pouvez visualiser les graphe de chaque parking ci-dessous"
   ]
  },
  {
   "cell_type": "markdown",
   "id": "0b23b2fd-4bdd-436a-b451-67ecdd7ce224",
   "metadata": {},
   "source": [
    "**Voici les données des parking sur un mois.**"
   ]
  },
  {
   "cell_type": "code",
   "execution_count": 1,
   "id": "69b2d5c2-6a96-4947-82af-316240fe30f9",
   "metadata": {},
   "outputs": [
    {
     "data": {
      "application/vnd.jupyter.widget-view+json": {
       "model_id": "39ad50227fd64246b00f7bf720cb087b",
       "version_major": 2,
       "version_minor": 0
      },
      "text/plain": [
       "interactive(children=(Dropdown(description='parking', options=('Antigone', 'Arc de Triomphe', 'Comedie', 'Coru…"
      ]
     },
     "metadata": {},
     "output_type": "display_data"
    },
    {
     "data": {
      "text/plain": [
       "<function __main__.afficher_image(parking)>"
      ]
     },
     "execution_count": 1,
     "metadata": {},
     "output_type": "execute_result"
    }
   ],
   "source": [
    "from ipywidgets import interact\n",
    "from IPython.display import display, Image\n",
    "\n",
    "# Définir les chemins des images correspondantes\n",
    "images_path = {\n",
    "    'Antigone': 'voiture_mois/occupation_parking_voiture_001.png',\n",
    "    'Arc de Triomphe':'voiture_mois/occupation_parking_voiture_002.png',\n",
    "    'Comedie': 'voiture_mois/occupation_parking_voiture_003.png',\n",
    "    'Corum': 'voiture_mois/occupation_parking_voiture_004.png',\n",
    "    'Europa': 'voiture_mois/occupation_parking_voiture_005.png',\n",
    "    'Foch': 'voiture_mois/occupation_parking_voiture_006.png',\n",
    "    'Gambetta': 'voiture_mois/occupation_parking_voiture_007.png',\n",
    "    'Gare': 'voiture_mois/occupation_parking_voiture_008.png',\n",
    "    'Triangle': 'voiture_mois/occupation_parking_voiture_009.png',\n",
    "    'Pitot': 'voiture_mois/occupation_parking_voiture_010.png',\n",
    "    'Circe': 'voiture_mois/occupation_parking_voiture_011.png',\n",
    "    'Garcia Lorca': 'voiture_mois/occupation_parking_voiture_012.png',\n",
    "    'Mosson': 'voiture_mois/occupation_parking_voiture_013.png',\n",
    "    'Sabines': 'voiture_mois/occupation_parking_voiture_014.png',\n",
    "    'Sablassou': 'voiture_mois/occupation_parking_voiture_015.png',\n",
    "    'Saint Jean Le Sec': 'voiture_mois/occupation_parking_voiture_016.png',\n",
    "    'Euromedecine': 'voiture_mois/occupation_parking_voiture_017.png',\n",
    "    'Occitanie': 'voiture_mois/occupation_parking_voiture_018.png',\n",
    "    'Vicarello': 'voiture_mois/occupation_parking_voiture_019.png',\n",
    "    'Charles de Gaulle': 'voiture_mois/occupation_parking_voiture_022.png',\n",
    "    'Polygone': 'voiture_mois/occupation_parking_voiture_024.png',\n",
    "}\n",
    "\n",
    "def afficher_image(parking):\n",
    "    chemin_image = images_path.get(parking, 'chemin/vers/image_inconnue.jpg')\n",
    "    display(Image(filename=chemin_image))\n",
    "\n",
    "interact(afficher_image,parking=['Antigone', 'Arc de Triomphe', 'Comedie', 'Corum', 'Europa', 'Foch', 'Gambetta', 'Gare', 'Triangle', 'Pitot', 'Circe', 'Garcia Lorca', 'Mosson', 'Sabines', 'Sablassou', 'Saint Jean Le Sec', 'Euromedecine', 'Occitanie', 'Vicarello', 'Charles de Gaulle', 'Polygone'])\n",
    "\n"
   ]
  },
  {
   "cell_type": "markdown",
   "id": "1151f227-c370-46fc-89ff-8e5b0f83d17c",
   "metadata": {},
   "source": [
    "**Voici les données des parkings sur une semaine**\n",
    "\n",
    "Pour bien analyser ces données, on a du faire pour deux semaines. Une semaine normale en Novembre et une en Décembre pendant la période de Noel\n",
    "\n",
    "\n"
   ]
  },
  {
   "cell_type": "code",
   "execution_count": 2,
   "id": "cecb9695-35ba-4d76-9ae8-bdd9fa3db67c",
   "metadata": {},
   "outputs": [
    {
     "data": {
      "application/vnd.jupyter.widget-view+json": {
       "model_id": "dcca5b1bf5884d3aa13f1be43ec63ed2",
       "version_major": 2,
       "version_minor": 0
      },
      "text/plain": [
       "interactive(children=(Dropdown(description='parking', options=('Antigone', 'Arc de Triomphe', 'Comedie', 'Coru…"
      ]
     },
     "metadata": {},
     "output_type": "display_data"
    },
    {
     "data": {
      "text/plain": [
       "<function __main__.afficher_image(parking)>"
      ]
     },
     "execution_count": 2,
     "metadata": {},
     "output_type": "execute_result"
    }
   ],
   "source": [
    "from ipywidgets import interact\n",
    "from IPython.display import display, Image\n",
    "\n",
    "images_path = {\n",
    "    'Antigone': 'voiture_semaine2/occupation_parking_voiture_001.png',\n",
    "    'Arc de Triomphe': 'voiture_semaine2/Occupation_parking_voiture_002.png',\n",
    "    'Comedie': 'voiture_semaine2/occupation_parking_voiture_003.png',\n",
    "    'Corum': 'voiture_semaine2/occupation_parking_voiture_004.png',\n",
    "    'Europa': 'voiture_semaine2/occupation_parking_voiture_005.png',\n",
    "    'Foch': 'voiture_semaine2/occupation_parking_voiture_006.png',\n",
    "    'Gambetta': 'voiture_semaine2/occupation_parking_voiture_007.png',\n",
    "    'Gare': 'voiture_semaine2/occupation_parking_voiture_008.png',\n",
    "    'Triangle': 'voiture_semaine2/occupation_parking_voiture_009.png',\n",
    "    'Pitot': 'voiture_semaine2/occupation_parking_voiture_010.png',\n",
    "    'Circe': 'voiture_semaine2/occupation_parking_voiture_011.png',\n",
    "    'Garcia Lorca': 'voiture_semaine2/occupation_parking_voiture_012.png',\n",
    "    'Mosson': 'voiture_semaine2/occupation_parking_voiture_013.png',\n",
    "    'Sabines': 'voiture_semaine2/occupation_parking_voiture_014.png',\n",
    "    'Sablassou': 'voiture_semaine2/occupation_parking_voiture_015.png',\n",
    "    'Saint Jean Le Sec': 'voiture_semaine2/occupation_parking_voiture_016.png',\n",
    "    'Euromedecine': 'voiture_semaine2/occupation_parking_voiture_017.png',\n",
    "    'Occitanie': 'voiture_semaine2/occupation_parking_voiture_018.png',\n",
    "    'Vicarello': 'voiture_semaine2/occupation_parking_voiture_019.png',\n",
    "    'Charles de Gaulle': 'voiture_semaine2/occupation_parking_voiture_022.png',\n",
    "    'Polygone': 'voiture_semaine2/occupation_parking_voiture_024.png',\n",
    "}\n",
    "\n",
    "\n",
    "def afficher_image(parking):\n",
    "    chemin_image = images_path.get(parking, 'chemin/vers/image_inconnue.jpg')\n",
    "    display(Image(filename=chemin_image))\n",
    "\n",
    "interact(afficher_image,parking=['Antigone', 'Arc de Triomphe', 'Comedie', 'Corum', 'Europa', 'Foch', 'Gambetta', 'Gare', 'Triangle', 'Pitot', 'Circe', 'Garcia Lorca', 'Mosson', 'Sabines', 'Sablassou', 'Saint Jean Le Sec', 'Euromedecine', 'Occitanie', 'Vicarello', 'Charles de Gaulle', 'Polygone'])\n",
    "\n"
   ]
  },
  {
   "cell_type": "code",
   "execution_count": 3,
   "id": "85d73b05-e28c-43dd-a3f7-4778b2632d36",
   "metadata": {},
   "outputs": [
    {
     "data": {
      "application/vnd.jupyter.widget-view+json": {
       "model_id": "137e01c3ef254453a4b3be00d2f49b6f",
       "version_major": 2,
       "version_minor": 0
      },
      "text/plain": [
       "interactive(children=(Dropdown(description='parking', options=('Antigone', 'Arc de Triomphe', 'Comedie', 'Coru…"
      ]
     },
     "metadata": {},
     "output_type": "display_data"
    },
    {
     "data": {
      "text/plain": [
       "<function __main__.afficher_image(parking)>"
      ]
     },
     "execution_count": 3,
     "metadata": {},
     "output_type": "execute_result"
    }
   ],
   "source": [
    "from ipywidgets import interact\n",
    "from IPython.display import display, Image\n",
    "\n",
    "# Définir les chemins des images correspondantes\n",
    "images_path = {\n",
    "    'Antigone': 'voiture_semaine/occupation_parking_voiture_001.png',\n",
    "    'Arc de Triomphe':'voiture_semaine/Occupation_parking_voiture_002.png',\n",
    "    'Comedie': 'voiture_semaine/occupation_parking_voiture_003.png',\n",
    "    'Corum': 'voiture_semaine/occupation_parking_voiture_004.png',\n",
    "    'Europa': 'voiture_semaine/occupation_parking_voiture_005.png',\n",
    "    'Foch': 'voiture_semaine/occupation_parking_voiture_006.png',\n",
    "    'Gambetta': 'voiture_semaine/occupation_parking_voiture_007.png',\n",
    "    'Gare': 'voiture_semaine/occupation_parking_voiture_008.png',\n",
    "    'Triangle': 'voiture_semaine/occupation_parking_voiture_009.png',\n",
    "    'Pitot': 'voiture_semaine/occupation_parking_voiture_010.png',\n",
    "    'Circe': 'voiture_semaine/occupation_parking_voiture_011.png',\n",
    "    'Garcia Lorca': 'voiture_semaine/occupation_parking_voiture_012.png',\n",
    "    'Mosson': 'voiture_semaine/occupation_parking_voiture_013.png',\n",
    "    'Sabines': 'voiture_semaine/occupation_parking_voiture_014.png',\n",
    "    'Sablassou': 'voiture_semaine/occupation_parking_voiture_015.png',\n",
    "    'Saint Jean Le Sec': 'voiture_semaine/occupation_parking_voiture_016.png',\n",
    "    'Euromedecine': 'voiture_semaine/occupation_parking_voiture_017.png',\n",
    "    'Occitanie': 'voiture_semaine/occupation_parking_voiture_018.png',\n",
    "    'Vicarello': 'voiture_semaine/occupation_parking_voiture_019.png',\n",
    "    'Charles de Gaulle': 'voiture_semaine/occupation_parking_voiture_022.png',\n",
    "    'Polygone': 'voiture_semaine/occupation_parking_voiture_024.png',\n",
    "}\n",
    "\n",
    "def afficher_image(parking):\n",
    "    chemin_image = images_path.get(parking, 'chemin/vers/image_inconnue.jpg')\n",
    "    display(Image(filename=chemin_image))\n",
    "\n",
    "interact(afficher_image,parking=['Antigone', 'Arc de Triomphe', 'Comedie', 'Corum', 'Europa', 'Foch', 'Gambetta', 'Gare', 'Triangle', 'Pitot', 'Circe', 'Garcia Lorca', 'Mosson', 'Sabines', 'Sablassou', 'Saint Jean Le Sec', 'Euromedecine', 'Occitanie', 'Vicarello', 'Charles de Gaulle', 'Polygone'])\n",
    "\n"
   ]
  },
  {
   "cell_type": "markdown",
   "id": "44108344-1e08-4e3f-b0c1-250f8f6a2e27",
   "metadata": {},
   "source": [
    "**On a aussi récupéré les données des parkning sur un jour**"
   ]
  },
  {
   "cell_type": "code",
   "execution_count": 4,
   "id": "2d5f6b5b-9c46-4714-9602-4f34aaf7bed6",
   "metadata": {},
   "outputs": [
    {
     "data": {
      "application/vnd.jupyter.widget-view+json": {
       "model_id": "3b5556fbda5a4313a5d693068e022922",
       "version_major": 2,
       "version_minor": 0
      },
      "text/plain": [
       "interactive(children=(Dropdown(description='parking', options=('Antigone', 'Arc de Triomphe', 'Comedie', 'Coru…"
      ]
     },
     "metadata": {},
     "output_type": "display_data"
    },
    {
     "data": {
      "text/plain": [
       "<function __main__.afficher_image(parking)>"
      ]
     },
     "execution_count": 4,
     "metadata": {},
     "output_type": "execute_result"
    }
   ],
   "source": [
    "from ipywidgets import interact\n",
    "from IPython.display import display, Image\n",
    "\n",
    "# Définir les chemins des images correspondantes\n",
    "images_path = {\n",
    "    'Antigone': 'voiture_jour/occupation_parking_voiture_001.png',\n",
    "    'Arc de Triomphe':'voiture_jour/Occupation_parking_voiture_002.png',\n",
    "    'Comedie': 'voiture_jour/occupation_parking_voiture_003.png',\n",
    "    'Corum': 'voiture_jour/occupation_parking_voiture_004.png',\n",
    "    'Europa': 'voiture_jour/occupation_parking_voiture_005.png',\n",
    "    'Foch': 'voiture_jour/occupation_parking_voiture_006.png',\n",
    "    'Gambetta': 'voiture_jour/occupation_parking_voiture_007.png',\n",
    "    'Gare': 'voiture_jour/occupation_parking_voiture_008.png',\n",
    "    'Triangle': 'voiture_jour/occupation_parking_voiture_009.png',\n",
    "    'Pitot': 'voiture_jour/occupation_parking_voiture_010.png',\n",
    "    'Circe': 'voiture_jour/occupation_parking_voiture_011.png',\n",
    "    'Garcia Lorca': 'voiture_jour/occupation_parking_voiture_012.png',\n",
    "    'Mosson': 'voiture_jour/occupation_parking_voiture_013.png',\n",
    "    'Sabines': 'voiture_jour/occupation_parking_voiture_014.png',\n",
    "    'Sablassou': 'voiture_jour/occupation_parking_voiture_015.png',\n",
    "    'Saint Jean Le Sec': 'voiture_jour/occupation_parking_voiture_016.png',\n",
    "    'Euromedecine': 'voiture_jour/occupation_parking_voiture_017.png',\n",
    "    'Occitanie': 'voiture_jour/occupation_parking_voiture_018.png',\n",
    "    'Vicarello': 'voiture_jour/occupation_parking_voiture_019.png',\n",
    "    'Charles de Gaulle': 'voiture_jour/occupation_parking_voiture_022.png',\n",
    "    'Polygone': 'voiture_jour/occupation_parking_voiture_024.png',\n",
    "}\n",
    "\n",
    "def afficher_image(parking):\n",
    "    chemin_image = images_path.get(parking, 'chemin/vers/image_inconnue.jpg')\n",
    "    display(Image(filename=chemin_image))\n",
    "\n",
    "interact(afficher_image,parking=['Antigone', 'Arc de Triomphe', 'Comedie', 'Corum', 'Europa', 'Foch', 'Gambetta', 'Gare', 'Triangle', 'Pitot', 'Circe', 'Garcia Lorca', 'Mosson', 'Sabines', 'Sablassou', 'Saint Jean Le Sec', 'Euromedecine', 'Occitanie', 'Vicarello', 'Charles de Gaulle', 'Polygone'])\n",
    "\n"
   ]
  },
  {
   "cell_type": "markdown",
   "id": "86352ab0-3b75-4587-a319-3c4553b0c1f0",
   "metadata": {},
   "source": [
    "On remarque que certains parkings comme Occitanie, Comedie, Arc de Triomphe, Foch, Triangle sont souvent très pleins, dépassant souvent les 80% de taux d'occupation. Ces parkings sont toujours complets, ce qui rend difficile de trouver une place libre. La raison semble être que ces parkings sont situés près des centres commerciaux, du centre-ville et de nombreux endroits populaires.\n",
    "\n",
    "La solution à ce problème pourrait être d'agrandir ces parkings. En ajoutant plus de places, on pourrait mieux répondre à la demande croissante. Cela rendrait la recherche d'une place de stationnement plus facile. Il serait judicieux de réfléchir à la façon d'ajouter plus de places tout en assurant que les gens puissent facilement accéder à ces parkings. Cela améliorerait l'expérience de stationnement."
   ]
  },
  {
   "cell_type": "markdown",
   "id": "cb3b15ad-d25e-4cd5-bd4c-4f996b96e466",
   "metadata": {},
   "source": [
    "En effet, Il y a des écarts marqués entre les taux d'occupation des différents parkings. Ces variations importantes peuvent être attribuées à divers facteurs, tels que l'emplacement géographique des parkings et la capacité totale, parfois insuffisamment adaptée aux besoins réels des utilisateurs.\n",
    "\n",
    "Pour remédier à cette situation, une approche réfléchie est nécessaeir il faut mener dedes enquêtes approfondies et d'analyser les habitudes passées des utilisateurs afin de mieux comprendre leurs besoins réels. Cette démarche permettrait d'ajuster intelligemment le nombre de places de stationnement disponibles, en les augmentant là où la demande est constamment élevée et en réduisant éventuellement les capacités là où les parkings sont souvent sous-utilisés."
   ]
  },
  {
   "cell_type": "markdown",
   "id": "ba81314a-329b-4a5c-9adc-0053c2311d02",
   "metadata": {},
   "source": [
    "**On a aussi récupéré les données des parking de voiture à Montpellier pour deux semaines différentes en faisant la moyenne des taux d'occupation de tout les parkings à chaque heure de la journée. On a obtenu au final ces deux courbes.**"
   ]
  },
  {
   "cell_type": "markdown",
   "id": "3b11a6ff-648d-4c4d-a0ee-4f7f04591a6e",
   "metadata": {},
   "source": [
    "![rien](taux_occup_Decembre.png)"
   ]
  },
  {
   "cell_type": "markdown",
   "id": "ccd1e03a-1ee3-48e5-9372-aec501a3d9a9",
   "metadata": {},
   "source": [
    "![rien](taux_occup_Janvier.png)"
   ]
  },
  {
   "cell_type": "markdown",
   "id": "1062c49b-c43f-4c36-884d-547ca569f593",
   "metadata": {},
   "source": [
    "Les deux courbes, bien que capturées sur des périodes distinctes, dépeignent des similitudes frappantes. Il est notable que l'occupation des parkings connaît une hausse significative entre 8h et 17h, suivie d'une diminution. Le pic d'occupation est clairement visible vers 13h sur toutes les courbes. En examinant les données de décembre par rapport à celles de janvier, on constate une diminution du taux d'occupation pendant la période de décembre. Ce phénomène s'explique par l'approche de Noël, où les familles profitent de moments précieux ensemble, et où la présence d'enfants en vacances contribue à cette tendance. Il est également intéressant de noter que le dimanche affiche systématiquement les taux d'occupation les plus bas, étant une journée propice aux loisirs, aux promenades en famille et à la détente à la maison. Ces observations soulignent les fluctuations saisonnières et hebdomadaires, ajoutant une perspective fascinante à notre compréhension des habitudes d'utilisation des parkings."
   ]
  },
  {
   "cell_type": "markdown",
   "id": "265112db-5246-4008-8acf-7307bfce0a70",
   "metadata": {},
   "source": [
    "## Parkings vélos"
   ]
  },
  {
   "cell_type": "markdown",
   "id": "8e132850-7991-4c7d-9558-9dbf5bbb411c",
   "metadata": {},
   "source": [
    "La même chose a été faite avec les parkings des vélos. Voici ci-dessous tout les données des parkings des vélos"
   ]
  },
  {
   "cell_type": "code",
   "execution_count": 10,
   "id": "01314ffa-52b8-4eb0-b925-259e754bca8a",
   "metadata": {},
   "outputs": [
    {
     "data": {
      "application/vnd.jupyter.widget-view+json": {
       "model_id": "feced264985a4c59a0d21567f2bc3108",
       "version_major": 2,
       "version_minor": 0
      },
      "text/plain": [
       "interactive(children=(Dropdown(description='parking', options=('Rue Jules Ferry - Gare Saint-Roch', 'Comédie',…"
      ]
     },
     "metadata": {},
     "output_type": "display_data"
    },
    {
     "data": {
      "text/plain": [
       "<function __main__.afficher_image(parking)>"
      ]
     },
     "execution_count": 10,
     "metadata": {},
     "output_type": "execute_result"
    }
   ],
   "source": [
    "from ipywidgets import interact\n",
    "from IPython.display import display, Image\n",
    "\n",
    "# Définir les chemins des images correspondantes\n",
    "\n",
    "images_path = {\n",
    "    'Rue Jules Ferry - Gare Saint-Roch': 'velo_mois/occupation_parking_velo_001.png',\n",
    "    'Comédie': 'velo_mois/occupation_parking_velo_002.png',\n",
    "    'Hôtel de Ville': 'velo_mois/occupation_parking_velo_004.png',\n",
    "    'Corum': 'velo_mois/occupation_parking_velo_005.png',\n",
    "    'Place Albert 1er - St Charles': 'velo_mois/occupation_parking_velo_006.png',\n",
    "    'Foch': 'velo_mois/occupation_parking_velo_007.png',\n",
    "    'Halles Castellane': 'velo_mois/occupation_parking_velo_008.png',\n",
    "    'Observatoire': 'velo_mois/occupation_parking_velo_009.png',\n",
    "    'Rondelet': 'velo_mois/occupation_parking_velo_010.png',\n",
    "    'Plan Cabanes': 'velo_mois/occupation_parking_velo_011.png',\n",
    "    'Boutonnet': 'velo_mois/occupation_parking_velo_012.png',\n",
    "    'Emile Combes': 'velo_mois/occupation_parking_velo_013.png',\n",
    "    'Beaux-Arts': 'velo_mois/occupation_parking_velo_014.png',\n",
    "    'Les Aubes': 'velo_mois/occupation_parking_velo_015.png',\n",
    "    'Antigone centre': 'velo_mois/occupation_parking_velo_016.png',\n",
    "    'Médiathèque Emile Zola': 'velo_mois/occupation_parking_velo_017.png',\n",
    "    'Nombre d Or': 'velo_mois/occupation_parking_velo_018.png',\n",
    "    'Louis Blanc': 'velo_mois/occupation_parking_velo_019.png',\n",
    "    'Gambetta': 'velo_mois/occupation_parking_velo_020.png',\n",
    "    'Port Marianne': 'velo_mois/occupation_parking_velo_021.png',\n",
    "    'Les Arceaux': 'velo_mois/occupation_parking_velo_023.png',\n",
    "    'Cité Mion': 'velo_mois/occupation_parking_velo_024.png',\n",
    "    'Nouveau Saint-Roch': 'velo_mois/occupation_parking_velo_025.png',\n",
    "    'Renouvier': 'velo_mois/occupation_parking_velo_026.png',\n",
    "    'Odysseum': 'velo_mois/occupation_parking_velo_027.png',\n",
    "    'Saint-Denis': 'velo_mois/occupation_parking_velo_028.png',\n",
    "    'Richter': 'velo_mois/occupation_parking_velo_029.png',\n",
    "    'Charles Flahault': 'velo_mois/occupation_parking_velo_030.png',\n",
    "    'Voltaire': 'velo_mois/occupation_parking_velo_031.png',\n",
    "    'Prés d Arènes': 'velo_mois/occupation_parking_velo_032.png',\n",
    "    'Garcia Lorca': 'velo_mois/occupation_parking_velo_033.png',\n",
    "    'Vert Bois': 'velo_mois/occupation_parking_velo_034.png',\n",
    "    'Malbosc': 'velo_mois/occupation_parking_velo_035.png',\n",
    "    'Occitanie': 'velo_mois/occupation_parking_velo_036.png',\n",
    "    'Fac de Lettres': 'velo_mois/occupation_parking_velo_038.png',\n",
    "    'Aiguelongue': 'velo_mois/occupation_parking_velo_039.png',\n",
    "    'Jeu de Mail des Abbés': 'velo_mois/occupation_parking_velo_040.png',\n",
    "    'Euromédecine': 'velo_mois/occupation_parking_velo_041.png',\n",
    "    'Marie Caizergues': 'velo_mois/occupation_parking_velo_042.png',\n",
    "    'Sabines': 'velo_mois/occupation_parking_velo_043.png',\n",
    "    'Celleneuve': 'velo_mois/occupation_parking_velo_044.png',\n",
    "    'Jardin de la Lironde': 'velo_mois/occupation_parking_velo_045.png',\n",
    "    'Père Soulas': 'velo_mois/occupation_parking_velo_046.png',\n",
    "    'Place Viala': 'velo_mois/occupation_parking_velo_047.png',\n",
    "    'Hôtel du Département': 'velo_mois/occupation_parking_velo_048.png',\n",
    "    'Tonnelles': 'velo_mois/occupation_parking_velo_049.png',\n",
    "    'Parvis Jules Ferry - Gare Saint-Roch': 'velo_mois/occupation_parking_velo_050.png',\n",
    "    'Pont de Lattes - Gare Saint-Roch': 'velo_mois/occupation_parking_velo_051.png',\n",
    "    'Deux Ponts - Gare Saint-Roch': 'velo_mois/occupation_parking_velo_053.png',\n",
    "    'Providence - Ovalie': 'velo_mois/occupation_parking_velo_054.png',\n",
    "    'Pérols Etang de l Or': 'velo_mois/occupation_parking_velo_055.png',\n",
    "    'Albert 1er - Cathédrale': 'velo_mois/occupation_parking_velo_056.png',\n",
    "    'Saint-Guilhem - Courreau': 'velo_mois/occupation_parking_velo_057.png',\n",
    "    'Sud De France': 'velo_mois/occupation_parking_velo_059.png',\n",
    "    'Comedie Baudin': 'velo_mois/occupation_parking_velo_060.png',\n",
    "    'Jean de Beins': 'velo_mois/occupation_parking_velo_061.png',\n",
    "}\n",
    "\n",
    "def afficher_image(parking):\n",
    "    chemin_image = images_path.get(parking, 'chemin/vers/image_inconnue.jpg')\n",
    "    display(Image(filename=chemin_image))\n",
    "\n",
    "\n",
    "interact(afficher_image,parking= ['Rue Jules Ferry - Gare Saint-Roch', 'Comédie', 'Hôtel de Ville', 'Corum', 'Place Albert 1er - St Charles', 'Foch', 'Halles Castellane', 'Observatoire', 'Rondelet', 'Plan Cabanes', 'Boutonnet', 'Emile Combes', 'Beaux-Arts', 'Les Aubes', 'Antigone centre', 'Médiathèque Emile Zola', 'Nombre d Or', 'Louis Blanc', 'Gambetta', 'Port Marianne', 'Les Arceaux', 'Cité Mion', 'Nouveau Saint-Roch', 'Renouvier', 'Odysseum', 'Saint-Denis', 'Richter', 'Charles Flahault', 'Voltaire', 'Prés d Arènes', 'Garcia Lorca', 'Vert Bois', 'Malbosc', 'Occitanie', 'Fac de Lettres', 'Aiguelongue', 'Jeu de Mail des Abbés', 'Euromédecine', 'Marie Caizergues', 'Sabines', 'Celleneuve', 'Jardin de la Lironde', 'Père Soulas', 'Place Viala', 'Hôtel du Département', 'Tonnelles', 'Parvis Jules Ferry - Gare Saint-Roch', 'Pont de Lattes - Gare Saint-Roch', 'Deux Ponts - Gare Saint-Roch', 'Providence - Ovalie', 'Pérols Etang de l Or', 'Albert 1er - Cathédrale', 'Saint-Guilhem - Courreau', 'Sud De France', 'Comedie Baudin', 'Jean de Beins'])\n",
    "\n"
   ]
  },
  {
   "cell_type": "code",
   "execution_count": 6,
   "id": "c9c973fe-0df8-44a5-9c58-c55cf76f5d0e",
   "metadata": {},
   "outputs": [
    {
     "data": {
      "application/vnd.jupyter.widget-view+json": {
       "model_id": "17b1dbb0a68343a1b4ba1bdae2eae648",
       "version_major": 2,
       "version_minor": 0
      },
      "text/plain": [
       "interactive(children=(Dropdown(description='parking', options=('Rue Jules Ferry - Gare Saint-Roch', 'Comédie',…"
      ]
     },
     "metadata": {},
     "output_type": "display_data"
    },
    {
     "data": {
      "text/plain": [
       "<function __main__.afficher_image(parking)>"
      ]
     },
     "execution_count": 6,
     "metadata": {},
     "output_type": "execute_result"
    }
   ],
   "source": [
    "from ipywidgets import interact\n",
    "from IPython.display import display, Image\n",
    "\n",
    "images_path = {\n",
    "    'Rue Jules Ferry - Gare Saint-Roch': 'velo_semaine2/occupation_parking_velo_001.png',\n",
    "    'Comédie': 'velo_semaine2/occupation_parking_velo_002.png',\n",
    "    'Hôtel de Ville': 'velo_semaine2/occupation_parking_velo_004.png',\n",
    "    'Corum': 'velo_semaine2/occupation_parking_velo_005.png',\n",
    "    'Place Albert 1er - St Charles': 'velo_semaine2/occupation_parking_velo_006.png',\n",
    "    'Foch': 'velo_semaine2/occupation_parking_velo_007.png',\n",
    "    'Halles Castellane': 'velo_semaine2/occupation_parking_velo_008.png',\n",
    "    'Observatoire': 'velo_semaine2/occupation_parking_velo_009.png',\n",
    "    'Rondelet': 'velo_semaine2/occupation_parking_velo_010.png',\n",
    "    'Plan Cabanes': 'velo_semaine2/occupation_parking_velo_011.png',\n",
    "    'Boutonnet': 'velo_semaine2/occupation_parking_velo_012.png',\n",
    "    'Emile Combes': 'velo_semaine2/occupation_parking_velo_013.png',\n",
    "    'Beaux-Arts': 'velo_semaine2/occupation_parking_velo_014.png',\n",
    "    'Les Aubes': 'velo_semaine2/occupation_parking_velo_015.png',\n",
    "    'Antigone centre': 'velo_semaine2/occupation_parking_velo_016.png',\n",
    "    'Médiathèque Emile Zola': 'velo_semaine2/occupation_parking_velo_017.png',\n",
    "    'Nombre d Or': 'velo_semaine2/occupation_parking_velo_018.png',\n",
    "    'Louis Blanc': 'velo_semaine2/occupation_parking_velo_019.png',\n",
    "    'Gambetta': 'velo_semaine2/occupation_parking_velo_020.png',\n",
    "    'Port Marianne': 'velo_semaine2/occupation_parking_velo_021.png',\n",
    "    'Les Arceaux': 'velo_semaine2/occupation_parking_velo_023.png',\n",
    "    'Cité Mion': 'velo_semaine2/occupation_parking_velo_024.png',\n",
    "    'Nouveau Saint-Roch': 'velo_semaine2/occupation_parking_velo_025.png',\n",
    "    'Renouvier': 'velo_semaine2/occupation_parking_velo_026.png',\n",
    "    'Odysseum': 'velo_semaine2/occupation_parking_velo_027.png',\n",
    "    'Saint-Denis': 'velo_semaine2/occupation_parking_velo_028.png',\n",
    "    'Richter': 'velo_semaine2/occupation_parking_velo_029.png',\n",
    "    'Charles Flahault': 'velo_semaine2/occupation_parking_velo_030.png',\n",
    "    'Voltaire': 'velo_semaine2/occupation_parking_velo_031.png',\n",
    "    'Prés d Arènes': 'velo_semaine2/occupation_parking_velo_032.png',\n",
    "    'Garcia Lorca': 'velo_semaine2/occupation_parking_velo_033.png',\n",
    "    'Vert Bois': 'velo_semaine2/occupation_parking_velo_034.png',\n",
    "    'Malbosc': 'velo_semaine2/occupation_parking_velo_035.png',\n",
    "    'Occitanie': 'velo_semaine2/occupation_parking_velo_036.png',\n",
    "    'Fac de Lettres': 'velo_semaine2/occupation_parking_velo_038.png',\n",
    "    'Aiguelongue': 'velo_semaine2/occupation_parking_velo_039.png',\n",
    "    'Jeu de Mail des Abbés': 'velo_semaine2/occupation_parking_velo_040.png',\n",
    "    'Euromédecine': 'velo_semaine2/occupation_parking_velo_041.png',\n",
    "    'Marie Caizergues': 'velo_semaine2/occupation_parking_velo_042.png',\n",
    "    'Sabines': 'velo_semaine2/occupation_parking_velo_043.png',\n",
    "    'Celleneuve': 'velo_semaine2/occupation_parking_velo_044.png',\n",
    "    'Jardin de la Lironde': 'velo_semaine2/occupation_parking_velo_045.png',\n",
    "    'Père Soulas': 'velo_semaine2/occupation_parking_velo_046.png',\n",
    "    'Place Viala': 'velo_semaine2/occupation_parking_velo_047.png',\n",
    "    'Hôtel du Département': 'velo_semaine2/occupation_parking_velo_048.png',\n",
    "    'Tonnelles': 'velo_semaine2/occupation_parking_velo_049.png',\n",
    "    'Parvis Jules Ferry - Gare Saint-Roch': 'velo_semaine2/occupation_parking_velo_050.png',\n",
    "    'Pont de Lattes - Gare Saint-Roch': 'velo_semaine2/occupation_parking_velo_051.png',\n",
    "    'Deux Ponts - Gare Saint-Roch': 'velo_semaine2/occupation_parking_velo_053.png',\n",
    "    'Providence - Ovalie': 'velo_semaine2/occupation_parking_velo_054.png',\n",
    "    'Pérols Etang de l Or': 'velo_semaine2/occupation_parking_velo_055.png',\n",
    "    'Albert 1er - Cathédrale': 'velo_semaine2/occupation_parking_velo_056.png',\n",
    "    'Saint-Guilhem - Courreau': 'velo_semaine2/occupation_parking_velo_057.png',\n",
    "    'Sud De France': 'velo_semaine2/occupation_parking_velo_059.png',\n",
    "    'Comedie Baudin': 'velo_semaine2/occupation_parking_velo_060.png',\n",
    "    'Jean de Beins': 'velo_semaine2/occupation_parking_velo_061.png',\n",
    "    \n",
    "}\n",
    "\n",
    "def afficher_image(parking):\n",
    "    chemin_image = images_path.get(parking, 'chemin/vers/image_inconnue.jpg')\n",
    "    display(Image(filename=chemin_image))\n",
    "\n",
    "interact(afficher_image,parking= ['Rue Jules Ferry - Gare Saint-Roch', 'Comédie', 'Hôtel de Ville', 'Corum', 'Place Albert 1er - St Charles', 'Foch', 'Halles Castellane', 'Observatoire', 'Rondelet', 'Plan Cabanes', 'Boutonnet', 'Emile Combes', 'Beaux-Arts', 'Les Aubes', 'Antigone centre', 'Médiathèque Emile Zola', 'Nombre d Or', 'Louis Blanc', 'Gambetta', 'Port Marianne', 'Les Arceaux', 'Cité Mion', 'Nouveau Saint-Roch', 'Renouvier', 'Odysseum', 'Saint-Denis', 'Richter', 'Charles Flahault', 'Voltaire', 'Prés d Arènes', 'Garcia Lorca', 'Vert Bois', 'Malbosc', 'Occitanie', 'Fac de Lettres', 'Aiguelongue', 'Jeu de Mail des Abbés', 'Euromédecine', 'Marie Caizergues', 'Sabines', 'Celleneuve', 'Jardin de la Lironde', 'Père Soulas', 'Place Viala', 'Hôtel du Département', 'Tonnelles', 'Parvis Jules Ferry - Gare Saint-Roch', 'Pont de Lattes - Gare Saint-Roch', 'Deux Ponts - Gare Saint-Roch', 'Providence - Ovalie', 'Pérols Etang de l Or', 'Albert 1er - Cathédrale', 'Saint-Guilhem - Courreau', 'Sud De France', 'Comedie Baudin', 'Jean de Beins'])\n"
   ]
  },
  {
   "cell_type": "code",
   "execution_count": 11,
   "id": "76bc2b13-d3a8-4932-8803-376032ab6308",
   "metadata": {},
   "outputs": [
    {
     "data": {
      "application/vnd.jupyter.widget-view+json": {
       "model_id": "19f4d78bd947490c8e57aead96260c92",
       "version_major": 2,
       "version_minor": 0
      },
      "text/plain": [
       "interactive(children=(Dropdown(description='parking', options=('Rue Jules Ferry - Gare Saint-Roch', 'Comédie',…"
      ]
     },
     "metadata": {},
     "output_type": "display_data"
    },
    {
     "data": {
      "text/plain": [
       "<function __main__.afficher_image(parking)>"
      ]
     },
     "execution_count": 11,
     "metadata": {},
     "output_type": "execute_result"
    }
   ],
   "source": [
    "from ipywidgets import interact\n",
    "from IPython.display import display, Image\n",
    "\n",
    "# Définir les chemins des images correspondantes\n",
    "images_path = {\n",
    "    'Rue Jules Ferry - Gare Saint-Roch': 'velo_semaine/occupation_parking_velo_001.png',\n",
    "    'Comédie': 'velo_semaine/occupation_parking_velo_002.png',\n",
    "    'Hôtel de Ville': 'velo_semaine/occupation_parking_velo_004.png',\n",
    "    'Corum': 'velo_semaine/occupation_parking_velo_005.png',\n",
    "    'Place Albert 1er - St Charles': 'velo_semaine/occupation_parking_velo_006.png',\n",
    "    'Foch': 'velo_semaine/occupation_parking_velo_007.png',\n",
    "    'Halles Castellane': 'velo_semaine/occupation_parking_velo_008.png',\n",
    "    'Observatoire': 'velo_semaine/occupation_parking_velo_009.png',\n",
    "    'Rondelet': 'velo_semaine/occupation_parking_velo_010.png',\n",
    "    'Plan Cabanes': 'velo_semaine/occupation_parking_velo_011.png',\n",
    "    'Boutonnet': 'velo_semaine/occupation_parking_velo_012.png',\n",
    "    'Emile Combes': 'velo_semaine/occupation_parking_velo_013.png',\n",
    "    'Beaux-Arts': 'velo_semaine/occupation_parking_velo_014.png',\n",
    "    'Les Aubes': 'velo_semaine/occupation_parking_velo_015.png',\n",
    "    'Antigone centre': 'velo_semaine/occupation_parking_velo_016.png',\n",
    "    'Médiathèque Emile Zola': 'velo_semaine/occupation_parking_velo_017.png',\n",
    "    'Nombre d Or': 'velo_semaine/occupation_parking_velo_018.png',\n",
    "    'Louis Blanc': 'velo_semaine/occupation_parking_velo_019.png',\n",
    "    'Gambetta': 'velo_semaine/occupation_parking_velo_020.png',\n",
    "    'Port Marianne': 'velo_semaine/occupation_parking_velo_021.png',\n",
    "    'Les Arceaux': 'velo_semaine/occupation_parking_velo_023.png',\n",
    "    'Cité Mion': 'velo_semaine/occupation_parking_velo_024.png',\n",
    "    'Nouveau Saint-Roch': 'velo_semaine/occupation_parking_velo_025.png',\n",
    "    'Renouvier': 'velo_semaine/occupation_parking_velo_026.png',\n",
    "    'Odysseum': 'velo_semaine/occupation_parking_velo_027.png',\n",
    "    'Saint-Denis': 'velo_semaine/occupation_parking_velo_028.png',\n",
    "    'Richter': 'velo_semaine/occupation_parking_velo_029.png',\n",
    "    'Charles Flahault': 'velo_semaine/occupation_parking_velo_030.png',\n",
    "    'Voltaire': 'velo_semaine/occupation_parking_velo_031.png',\n",
    "    'Prés d Arènes': 'velo_semaine/occupation_parking_velo_032.png',\n",
    "    'Garcia Lorca': 'velo_semaine/occupation_parking_velo_033.png',\n",
    "    'Vert Bois': 'velo_semaine/occupation_parking_velo_034.png',\n",
    "    'Malbosc': 'velo_semaine/occupation_parking_velo_035.png',\n",
    "    'Occitanie': 'velo_semaine/occupation_parking_velo_036.png',\n",
    "    'Fac de Lettres': 'velo_semaine/occupation_parking_velo_038.png',\n",
    "    'Aiguelongue': 'velo_semaine/occupation_parking_velo_039.png',\n",
    "    'Jeu de Mail des Abbés': 'velo_semaine/occupation_parking_velo_040.png',\n",
    "    'Euromédecine': 'velo_semaine/occupation_parking_velo_041.png',\n",
    "    'Marie Caizergues': 'velo_semaine/occupation_parking_velo_042.png',\n",
    "    'Sabines': 'velo_semaine/occupation_parking_velo_043.png',\n",
    "    'Celleneuve': 'velo_semaine/occupation_parking_velo_044.png',\n",
    "    'Jardin de la Lironde': 'velo_semaine/occupation_parking_velo_045.png',\n",
    "    'Père Soulas': 'velo_semaine/occupation_parking_velo_046.png',\n",
    "    'Place Viala': 'velo_semaine/occupation_parking_velo_047.png',\n",
    "    'Hôtel du Département': 'velo_semaine/occupation_parking_velo_048.png',\n",
    "    'Tonnelles': 'velo_semaine/occupation_parking_velo_049.png',\n",
    "    'Parvis Jules Ferry - Gare Saint-Roch': 'velo_semaine/occupation_parking_velo_050.png',\n",
    "    'Pont de Lattes - Gare Saint-Roch': 'velo_semaine/occupation_parking_velo_051.png',\n",
    "    'Deux Ponts - Gare Saint-Roch': 'velo_semaine/occupation_parking_velo_053.png',\n",
    "    'Providence - Ovalie': 'velo_semaine/occupation_parking_velo_054.png',\n",
    "    'Pérols Etang de l Or': 'velo_semaine/occupation_parking_velo_055.png',\n",
    "    'Albert 1er - Cathédrale': 'velo_semaine/occupation_parking_velo_056.png',\n",
    "    'Saint-Guilhem - Courreau': 'velo_semaine/occupation_parking_velo_057.png',\n",
    "    'Sud De France': 'velo_semaine/occupation_parking_velo_059.png',\n",
    "    'Comedie Baudin': 'velo_semaine/occupation_parking_velo_060.png',\n",
    "    'Jean de Beins': 'velo_semaine/occupation_parking_velo_061.png',\n",
    "}\n",
    "\n",
    "def afficher_image(parking):\n",
    "    chemin_image = images_path.get(parking, 'chemin/vers/image_inconnue.jpg')\n",
    "    display(Image(filename=chemin_image))\n",
    "\n",
    "\n",
    "interact(afficher_image,parking= ['Rue Jules Ferry - Gare Saint-Roch', 'Comédie', 'Hôtel de Ville', 'Corum', 'Place Albert 1er - St Charles', 'Foch', 'Halles Castellane', 'Observatoire', 'Rondelet', 'Plan Cabanes', 'Boutonnet', 'Emile Combes', 'Beaux-Arts', 'Les Aubes', 'Antigone centre', 'Médiathèque Emile Zola', 'Nombre d Or', 'Louis Blanc', 'Gambetta', 'Port Marianne', 'Les Arceaux', 'Cité Mion', 'Nouveau Saint-Roch', 'Renouvier', 'Odysseum', 'Saint-Denis', 'Richter', 'Charles Flahault', 'Voltaire', 'Prés d Arènes', 'Garcia Lorca', 'Vert Bois', 'Malbosc', 'Occitanie', 'Fac de Lettres', 'Aiguelongue', 'Jeu de Mail des Abbés', 'Euromédecine', 'Marie Caizergues', 'Sabines', 'Celleneuve', 'Jardin de la Lironde', 'Père Soulas', 'Place Viala', 'Hôtel du Département', 'Tonnelles', 'Parvis Jules Ferry - Gare Saint-Roch', 'Pont de Lattes - Gare Saint-Roch', 'Deux Ponts - Gare Saint-Roch', 'Providence - Ovalie', 'Pérols Etang de l Or', 'Albert 1er - Cathédrale', 'Saint-Guilhem - Courreau', 'Sud De France', 'Comedie Baudin', 'Jean de Beins'])\n"
   ]
  },
  {
   "cell_type": "code",
   "execution_count": 12,
   "id": "4f23cf4d-dc33-46fe-9056-a7a47bb42538",
   "metadata": {},
   "outputs": [
    {
     "data": {
      "application/vnd.jupyter.widget-view+json": {
       "model_id": "3578dca010a041d7b4f0af9a3354c945",
       "version_major": 2,
       "version_minor": 0
      },
      "text/plain": [
       "interactive(children=(Dropdown(description='parking', options=('Rue Jules Ferry - Gare Saint-Roch', 'Comédie',…"
      ]
     },
     "metadata": {},
     "output_type": "display_data"
    },
    {
     "data": {
      "text/plain": [
       "<function __main__.afficher_image(parking)>"
      ]
     },
     "execution_count": 12,
     "metadata": {},
     "output_type": "execute_result"
    }
   ],
   "source": [
    "from ipywidgets import interact\n",
    "from IPython.display import display, Image\n",
    "\n",
    "\n",
    "images_path = {\n",
    "    'Rue Jules Ferry - Gare Saint-Roch': 'velo_jour/occupation_parking_velo_001.png',\n",
    "    'Comédie': 'velo_jour/occupation_parking_velo_002.png',\n",
    "    'Hôtel de Ville': 'velo_jour/occupation_parking_velo_004.png',\n",
    "    'Corum': 'velo_jour/occupation_parking_velo_005.png',\n",
    "    'Place Albert 1er - St Charles': 'velo_jour/occupation_parking_velo_006.png',\n",
    "    'Foch': 'velo_jour/occupation_parking_velo_007.png',\n",
    "    'Halles Castellane': 'velo_jour/occupation_parking_velo_008.png',\n",
    "    'Observatoire': 'velo_jour/occupation_parking_velo_009.png',\n",
    "    'Rondelet': 'velo_jour/occupation_parking_velo_010.png',\n",
    "    'Plan Cabanes': 'velo_jour/occupation_parking_velo_011.png',\n",
    "    'Boutonnet': 'velo_jour/occupation_parking_velo_012.png',\n",
    "    'Emile Combes': 'velo_jour/occupation_parking_velo_013.png',\n",
    "    'Beaux-Arts': 'velo_jour/occupation_parking_velo_014.png',\n",
    "    'Les Aubes': 'velo_jour/occupation_parking_velo_015.png',\n",
    "    'Antigone centre': 'velo_jour/occupation_parking_velo_016.png',\n",
    "    'Médiathèque Emile Zola': 'velo_jour/occupation_parking_velo_017.png',\n",
    "    'Nombre d Or': 'velo_jour/occupation_parking_velo_018.png',\n",
    "    'Louis Blanc': 'velo_jour/occupation_parking_velo_019.png',\n",
    "    'Gambetta': 'velo_jour/occupation_parking_velo_020.png',\n",
    "    'Port Marianne': 'velo_jour/occupation_parking_velo_021.png',\n",
    "    'Les Arceaux': 'velo_jour/occupation_parking_velo_023.png',\n",
    "    'Cité Mion': 'velo_jour/occupation_parking_velo_024.png',\n",
    "    'Nouveau Saint-Roch': 'velo_jour/occupation_parking_velo_025.png',\n",
    "    'Renouvier': 'velo_jour/occupation_parking_velo_026.png',\n",
    "    'Odysseum': 'velo_jour/occupation_parking_velo_027.png',\n",
    "    'Saint-Denis': 'velo_jour/occupation_parking_velo_028.png',\n",
    "    'Richter': 'velo_jour/occupation_parking_velo_029.png',\n",
    "    'Charles Flahault': 'velo_jour/occupation_parking_velo_030.png',\n",
    "    'Voltaire': 'velo_jour/occupation_parking_velo_031.png',\n",
    "    'Prés d Arènes': 'velo_jour/occupation_parking_velo_032.png',\n",
    "    'Garcia Lorca': 'velo_jour/occupation_parking_velo_033.png',\n",
    "    'Vert Bois': 'velo_jour/occupation_parking_velo_034.png',\n",
    "    'Malbosc': 'velo_jour/occupation_parking_velo_035.png',\n",
    "    'Occitanie': 'velo_jour/occupation_parking_velo_036.png',\n",
    "    'Fac de Lettres': 'velo_jour/occupation_parking_velo_038.png',\n",
    "    'Aiguelongue': 'velo_jour/occupation_parking_velo_039.png',\n",
    "    'Jeu de Mail des Abbés': 'velo_jour/occupation_parking_velo_040.png',\n",
    "    'Euromédecine': 'velo_jour/occupation_parking_velo_041.png',\n",
    "    'Marie Caizergues': 'velo_jour/occupation_parking_velo_042.png',\n",
    "    'Sabines': 'velo_jour/occupation_parking_velo_043.png',\n",
    "    'Celleneuve': 'velo_jour/occupation_parking_velo_044.png',\n",
    "    'Jardin de la Lironde': 'velo_jour/occupation_parking_velo_045.png',\n",
    "    'Père Soulas': 'velo_jour/occupation_parking_velo_046.png',\n",
    "    'Place Viala': 'velo_jour/occupation_parking_velo_047.png',\n",
    "    'Hôtel du Département': 'velo_jour/occupation_parking_velo_048.png',\n",
    "    'Tonnelles': 'velo_jour/occupation_parking_velo_049.png',\n",
    "    'Parvis Jules Ferry - Gare Saint-Roch': 'velo_jour/occupation_parking_velo_050.png',\n",
    "    'Pont de Lattes - Gare Saint-Roch': 'velo_jour/occupation_parking_velo_051.png',\n",
    "    'Deux Ponts - Gare Saint-Roch': 'velo_jour/occupation_parking_velo_053.png',\n",
    "    'Providence - Ovalie': 'velo_jour/occupation_parking_velo_054.png',\n",
    "    'Pérols Etang de l Or': 'velo_jour/occupation_parking_velo_055.png',\n",
    "    'Albert 1er - Cathédrale': 'velo_jour/occupation_parking_velo_056.png',\n",
    "    'Saint-Guilhem - Courreau': 'velo_jour/occupation_parking_velo_057.png',\n",
    "    'Sud De France': 'velo_jour/occupation_parking_velo_059.png',\n",
    "    'Comedie Baudin': 'velo_jour/occupation_parking_velo_060.png',\n",
    "    'Jean de Beins': 'velo_jour/occupation_parking_velo_061.png',\n",
    "}\n",
    "\n",
    "\n",
    "def afficher_image(parking):\n",
    "    chemin_image = images_path.get(parking, 'chemin/vers/image_inconnue.jpg')\n",
    "    display(Image(filename=chemin_image))\n",
    "\n",
    "\n",
    "\n",
    "interact(afficher_image,parking= ['Rue Jules Ferry - Gare Saint-Roch', 'Comédie', 'Hôtel de Ville', 'Corum', 'Place Albert 1er - St Charles', 'Foch', 'Halles Castellane', 'Observatoire', 'Rondelet', 'Plan Cabanes', 'Boutonnet', 'Emile Combes', 'Beaux-Arts', 'Les Aubes', 'Antigone centre', 'Médiathèque Emile Zola', 'Nombre d Or', 'Louis Blanc', 'Gambetta', 'Port Marianne', 'Les Arceaux', 'Cité Mion', 'Nouveau Saint-Roch', 'Renouvier', 'Odysseum', 'Saint-Denis', 'Richter', 'Charles Flahault', 'Voltaire', 'Prés d Arènes', 'Garcia Lorca', 'Vert Bois', 'Malbosc', 'Occitanie', 'Fac de Lettres', 'Aiguelongue', 'Jeu de Mail des Abbés', 'Euromédecine', 'Marie Caizergues', 'Sabines', 'Celleneuve', 'Jardin de la Lironde', 'Père Soulas', 'Place Viala', 'Hôtel du Département', 'Tonnelles', 'Parvis Jules Ferry - Gare Saint-Roch', 'Pont de Lattes - Gare Saint-Roch', 'Deux Ponts - Gare Saint-Roch', 'Providence - Ovalie', 'Pérols Etang de l Or', 'Albert 1er - Cathédrale', 'Saint-Guilhem - Courreau', 'Sud De France', 'Comedie Baudin', 'Jean de Beins'])\n"
   ]
  },
  {
   "cell_type": "markdown",
   "id": "21829cf8-5dfa-4f4e-a7bf-2e320fef4a24",
   "metadata": {},
   "source": [
    "![rien](taux_occup_Decembre_velos.png)"
   ]
  },
  {
   "cell_type": "markdown",
   "id": "be730219-ed81-447c-964f-8e4706db7d85",
   "metadata": {},
   "source": [
    "![rien](taux_occup_Janvier_velos.png)"
   ]
  },
  {
   "cell_type": "markdown",
   "id": "0e05eebd-a1db-4dd3-86c8-837a518e5263",
   "metadata": {},
   "source": [
    "Il semble que les parkings pour vélos fonctionnent plutôt bien, comparés aux parkings pour voitures. Les taux d'occupation restent généralement bas, autour de 40% à 60%, et ne dépassent rarement les 80%. Les graphes des deux semaines, en décembre et novembre, se ressemblent, montrant une stabilité dans l'utilisation des parkings pour vélos.\n",
    "\n",
    "Il est intéressant de noter que le pic d'occupation se produit généralement entre 16h et 17h, indiquant un moment de forte fréquentation. Ces résultats suggèrent que la gestion des parkings pour vélos est efficace et que les utilisateurs ont des habitudes prévisibles. Cela pourrait être dû à une bonne organisation ou à des installations appropriées pour les vélos."
   ]
  }
 ],
 "metadata": {
  "kernelspec": {
   "display_name": "Python 3 (ipykernel)",
   "language": "python",
   "name": "python3"
  },
  "language_info": {
   "codemirror_mode": {
    "name": "ipython",
    "version": 3
   },
   "file_extension": ".py",
   "mimetype": "text/x-python",
   "name": "python",
   "nbconvert_exporter": "python",
   "pygments_lexer": "ipython3",
   "version": "3.9.1"
  }
 },
 "nbformat": 4,
 "nbformat_minor": 5
}
